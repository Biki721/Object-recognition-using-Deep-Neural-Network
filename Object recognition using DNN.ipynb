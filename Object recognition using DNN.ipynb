{
 "cells": [
  {
   "cell_type": "code",
   "execution_count": null,
   "id": "0e53f836",
   "metadata": {},
   "outputs": [],
   "source": [
    "import numpy as np\n",
    "import imutils\n",
    "import cv2\n",
    "import time"
   ]
  },
  {
   "cell_type": "code",
   "execution_count": null,
   "id": "9c0b9641",
   "metadata": {},
   "outputs": [],
   "source": [
    "prototxt = \"Downloads/MobileNetSSD_deploy.prototxt.txt\"\n",
    "model = \"Downloads/MobileNetSSD_deploy.caffemodel\""
   ]
  },
  {
   "cell_type": "code",
   "execution_count": null,
   "id": "e329c8f5",
   "metadata": {},
   "outputs": [],
   "source": [
    "conf_thresh = 0.2\n",
    "CLASSES = [\"background\",\"aeroplane\",\"bicycle\",\"bird\",\"boat\",\"bottle\",\"bus\",\"car\",\"cat\",\"chair\",\"cow\",'mobile',\n",
    "           \"diningtable\",\"dog\",\"horse\",\"motorbike\",\"person\",\"pottedplant\",\"sheep\",\"sofa\",\"train\",\"tvmonitor\"]\n",
    "COLORS = np.random.uniform(0,255,size = (len(CLASSES),3))\n",
    "print(\"Loading model.....\")\n",
    "net = cv2.dnn.readNetFromCaffe(prototxt,model)\n",
    "print(\"Model Loaded\")\n",
    "print(\"Starting Camera Feed....\")\n",
    "vs = cv2.VideoCapture(0)\n",
    "time.sleep(2.0)\n",
    "while True:\n",
    "    _,frame = vs.read()\n",
    "    frame = imutils.resize(frame,width = 500)\n",
    "    (h,w) = frame.shape[:2]\n",
    "    im_resize = cv2.resize(frame,(300,300))\n",
    "    blob = cv2.dnn.blobFromImage(im_resize,0.007843,(300,300),127.5)\n",
    "    net.setInput(blob)\n",
    "    detections = net.forward()\n",
    "    det_shape = detections.shape[2]\n",
    "    for i in np.arange(0,det_shape):\n",
    "        confidence = detections[0,0,i,2]\n",
    "        if confidence > conf_thresh:\n",
    "            idx = int(detections[0,0,i,1])\n",
    "            box = detections[0,0,i,3:7] * np.array([w,h,w,h])\n",
    "            start_x,start_y,end_x,end_y = box.astype('int')\n",
    "            label = \"{}:{:.2f}%\".format(CLASSES[idx],confidence * 100)\n",
    "            cv2.rectangle(frame,(start_x,start_y),(end_x,end_y),COLORS[idx],2)\n",
    "            if start_y - 15 > 15:\n",
    "                y = start_y - 15\n",
    "            else:\n",
    "                y = start_y + 15\n",
    "            cv2.putText(frame,label,(start_x,y),cv2.FONT_HERSHEY_SIMPLEX,0.5,(0,0,255),2)\n",
    "    cv2.imshow(\"Frame\",frame)\n",
    "    key = cv2.waitKey(10)\n",
    "    if key == 27:\n",
    "        break\n",
    "vs.release()\n",
    "cv2.destroyAllWindows()\n",
    "                \n",
    "        \n",
    "    "
   ]
  },
  {
   "cell_type": "code",
   "execution_count": null,
   "id": "4fe7e80a",
   "metadata": {},
   "outputs": [],
   "source": []
  },
  {
   "cell_type": "code",
   "execution_count": null,
   "id": "b2f3ffc9",
   "metadata": {},
   "outputs": [],
   "source": []
  }
 ],
 "metadata": {
  "kernelspec": {
   "display_name": "Python 3",
   "language": "python",
   "name": "python3"
  },
  "language_info": {
   "codemirror_mode": {
    "name": "ipython",
    "version": 3
   },
   "file_extension": ".py",
   "mimetype": "text/x-python",
   "name": "python",
   "nbconvert_exporter": "python",
   "pygments_lexer": "ipython3",
   "version": "3.8.8"
  }
 },
 "nbformat": 4,
 "nbformat_minor": 5
}
